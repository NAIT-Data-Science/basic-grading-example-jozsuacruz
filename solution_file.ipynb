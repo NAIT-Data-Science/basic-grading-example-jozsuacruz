{
 "cells": [
  {
   "cell_type": "markdown",
   "source": [
    "This is a really simple example for you to practice submitting code to be graded, and get used to the process.\n",
    "\n",
    "It isn't for marks. "
   ],
   "metadata": {}
  },
  {
   "cell_type": "code",
   "execution_count": 13,
   "source": [
    "#We'll import some stuff. \n",
    "import thinkplot\n",
    "import thinkstats2\n",
    "import pandas as pd\n",
    "import numpy as np"
   ],
   "outputs": [],
   "metadata": {}
  },
  {
   "cell_type": "markdown",
   "source": [
    "Load in some data, put it into a dataframe. "
   ],
   "metadata": {}
  },
  {
   "cell_type": "code",
   "execution_count": 12,
   "source": [
    "df = pd.read_csv(\"500_Person_Gender_Height_Weight_Index.csv\")\n",
    "#testWord = \"Blah Blah\""
   ],
   "outputs": [],
   "metadata": {}
  },
  {
   "cell_type": "markdown",
   "source": [
    "In order for the system to automatically run your code, and verify the results are correct, the important bits of your code need to be in functions. The function signatures that are provided are key - don't change these, they system is looking for them in order to execute the code. You can fill them in with pretty much anything you need, and add whatever other code you need, but the provided functions must have the specified sigs and outputs for it to work. "
   ],
   "metadata": {}
  },
  {
   "cell_type": "markdown",
   "source": [
    "The function below is a fully working example.\n",
    "\n",
    "Given two sets of data, how much larger is the mean of the first vs the second. We'll do all the processing of the data inside the function.\n",
    "\n",
    "The function takes in 5 paramaters, in order:\n",
    "- The data we are using, in a dataframe.\n",
    "- Which column we are comparing.\n",
    "- Which column we are using to split the data into two sets.\n",
    "- The value of group 1.\n",
    "- The value of group 2."
   ],
   "metadata": {}
  },
  {
   "cell_type": "code",
   "execution_count": 7,
   "source": [
    "#Provide the difference \n",
    "def compareTwoMeans(df_in, comparedCol, splitCol, group1, group2):\n",
    "    #First, split the dat into group 1 and 2.\n",
    "    #The two things below will be dataframes, only containing the part of the data matching the split info.\n",
    "    dataSet1 = df_in[df_in[splitCol]==group1]\n",
    "    dataSet2 = df_in[df_in[splitCol]==group2]\n",
    "    #Take the mean of the specified column for each group.\n",
    "    mean1 = dataSet1[comparedCol].mean()\n",
    "    mean2 = dataSet2[comparedCol].mean()\n",
    "    #We can add in a little print statement as we go, this will show up \n",
    "    #in the bottom terminal in VS Code.\n",
    "    print(\"Mean 1: \"+str(mean1)+\" Mean 2: \"+str(mean2))\n",
    "    #Generate the difference\n",
    "    diff = mean1-mean2\n",
    "    return diff"
   ],
   "outputs": [],
   "metadata": {}
  },
  {
   "cell_type": "markdown",
   "source": [
    "Because we wrote our code in a function, we can't really see if it is working as we write it. We need to call that funciton - or execute it with some real values to see what happens. That's below."
   ],
   "metadata": {}
  },
  {
   "cell_type": "code",
   "execution_count": 11,
   "source": [
    "compareTwoMeans(df,\"Weight\",\"Gender\",\"Male\",\"Female\")"
   ],
   "outputs": [
    {
     "output_type": "stream",
     "name": "stdout",
     "text": [
      "Mean 1: 106.31428571428572 Mean 2: 105.69803921568628\n"
     ]
    },
    {
     "output_type": "execute_result",
     "data": {
      "text/plain": [
       "0.6162464985994376"
      ]
     },
     "metadata": {},
     "execution_count": 11
    }
   ],
   "metadata": {}
  },
  {
   "cell_type": "markdown",
   "source": [
    "You'll learn a bunch more about functions in the programming class. \n",
    "The main benefit is that it allows us to write some generic code once, and reuse it infinitely.\n",
    "The function above can compare the means of pretty much anything - not just the specific difference in weights that we're doing.\n",
    "This also means that when your code is being checked, we aren't looking for specific values, we'll feed some data to your code, and the same data to the solution code, and as long as they match, you're correct (or we're both wrong!). So, don't hard code values! Leaving variables as variables is required. \n",
    "\n",
    "When this is submitted, the above function will be marked correct, because my solution is the same code. \n",
    "Below, there's a couple for you to try - if your output matches mine, the system will mark it correct; if it is different, it'll be incorrect. \n",
    "\n",
    "Now you try...."
   ],
   "metadata": {}
  },
  {
   "cell_type": "code",
   "execution_count": 3,
   "source": [
    "#This one is simple - compare the medians.\n",
    "#Try to write the code out yourself, don't just copy/paste from above. \n",
    "def compareTwoMedians(df_in, comparedCol, splitCol, group1, group2):\n",
    "    return True"
   ],
   "outputs": [],
   "metadata": {}
  },
  {
   "cell_type": "code",
   "execution_count": null,
   "source": [
    "#Call the function and check and see the results...."
   ],
   "outputs": [],
   "metadata": {}
  },
  {
   "cell_type": "markdown",
   "source": [
    "A slightly more challenging example. \n",
    "\n",
    "Count the number of items that are above/below a given cutoff. \n",
    "This is going to be a very generic function, some examples of use are:\n",
    "- Number of people with a weight over 100kg\n",
    "- Number of people with a height under 162cm\n",
    "\n",
    "Note the last paramater, isOver. This is a boolean (true/false), if it is True, then we are looking for things that are over; if it is false, we're looking for things that are under. This is a common way to do things that area choice between two options."
   ],
   "metadata": {}
  },
  {
   "cell_type": "code",
   "execution_count": 9,
   "source": [
    "#Note: In the description I said above/below, when doing comparisions we need to be careful about strictly above vs equals and above....\n",
    "def countMeetsCutoff(df_in, columnUsed, metric, isOver):\n",
    "    return True #change this to a real return"
   ],
   "outputs": [],
   "metadata": {}
  },
  {
   "cell_type": "code",
   "execution_count": 10,
   "source": [
    "#Call the function to see if it works\n",
    "#This is the number of people over 100 kg\n",
    "countMeetsCutoff(df,\"Weight\",100,True)"
   ],
   "outputs": [
    {
     "output_type": "execute_result",
     "data": {
      "text/plain": [
       "True"
      ]
     },
     "metadata": {},
     "execution_count": 10
    }
   ],
   "metadata": {}
  }
 ],
 "metadata": {
  "orig_nbformat": 4,
  "language_info": {
   "name": "python",
   "version": "3.8.3",
   "mimetype": "text/x-python",
   "codemirror_mode": {
    "name": "ipython",
    "version": 3
   },
   "pygments_lexer": "ipython3",
   "nbconvert_exporter": "python",
   "file_extension": ".py"
  },
  "kernelspec": {
   "name": "python3",
   "display_name": "Python 3.8.3 64-bit ('base': conda)"
  },
  "interpreter": {
   "hash": "f7dd21bfe8933d21e2c58a22bc74eff6eccb2180dc6c2e2695cf2d3822934f32"
  }
 },
 "nbformat": 4,
 "nbformat_minor": 2
}